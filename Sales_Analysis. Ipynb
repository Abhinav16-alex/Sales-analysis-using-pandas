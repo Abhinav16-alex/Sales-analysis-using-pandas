# Task 5: Sales Data Analysis Using Pandas
# Complete Jupyter Notebook Code

# Cell 1: Import Libraries
import pandas as pd
import matplotlib.pyplot as plt
import seaborn as sns
import numpy as np
from datetime import datetime

# Set style for better plots
plt.style.use('default')
sns.set_palette("husl")
plt.rcParams['figure.figsize'] = (10, 6)

print("Libraries imported successfully!")
print("Ready to analyze sales data!")

# Cell 2: Load the Dataset
# Load CSV file - replace with your actual filename
df = pd.read_csv('sales_data.csv')

print("Dataset loaded successfully!")
print(f"Dataset shape: {df.shape}")
print("\nFirst 5 rows of the dataset:")
df.head()

# Cell 3: Data Overview and Information
print("DATASET OVERVIEW")
print("=" * 50)
print(f"Number of rows: {df.shape[0]}")
print(f"Number of columns: {df.shape[1]}")
print(f"Column names: {list(df.columns)}")

print("\nData Types:")
print(df.dtypes)

print("\nMissing Values:")
missing_values = df.isnull().sum()
print(missing_values)

if missing_values.sum() == 0:
    print(" No missing values found!")

# Cell 4: Basic Statistical Summary
print("BASIC STATISTICS")
print("=" * 50)
print("Numerical columns summary:")
df.describe()

# Cell 5: Data Cleaning and Preparation
# Convert Date column to datetime if it exists
if 'Date' in df.columns:
    df['Date'] = pd.to_datetime(df['Date'])
    df['Month'] = df['Date'].dt.to_period('M')
    df['Year'] = df['Date'].dt.year
    print(" Date column converted to datetime format")

# Display cleaned data info
print("\nCleaned dataset info:")
print(df.info())

# Cell 6: Sales Analysis by Category
print("SALES BY CATEGORY ANALYSIS")
print("=" * 50)

# Group by category and calculate total sales
sales_by_category = df.groupby('Category')['Sales'].agg(['sum', 'count', 'mean']).round(2)
sales_by_category.columns = ['Total_Sales', 'Transaction_Count', 'Average_Sale']
sales_by_category = sales_by_category.sort_values('Total_Sales', ascending=False)

print("Sales Performance by Category:")
print(sales_by_category)

# Visualization: Sales by Category
plt.figure(figsize=(12, 6))
sales_by_category['Total_Sales'].plot(kind='bar', color='skyblue', alpha=0.8)
plt.title('Total Sales by Category', fontsize=16, fontweight='bold')
plt.xlabel('Category', fontsize=12)
plt.ylabel('Sales Amount ($)', fontsize=12)
plt.xticks(rotation=45)
plt.grid(axis='y', alpha=0.3)
plt.tight_layout()
plt.show()

# Cell 7: Regional Performance Analysis
print("REGIONAL PERFORMANCE ANALYSIS")
print("=" * 50)

# Group by region
regional_performance = df.groupby('Region')['Sales'].agg(['sum', 'count', 'mean']).round(2)
regional_performance.columns = ['Total_Sales', 'Transaction_Count', 'Average_Sale']
regional_performance = regional_performance.sort_values('Total_Sales', ascending=False)

print("Regional Performance Summary:")
print(regional_performance)

# Calculate percentage of total sales
total_sales = df['Sales'].sum()
regional_performance['Sales_Percentage'] = (regional_performance['Total_Sales'] / total_sales * 100).round(1)

print("\nRegional Sales Percentage:")
print(regional_performance['Sales_Percentage'])

# Visualization: Regional Sales Distribution
plt.figure(figsize=(10, 8))
plt.pie(regional_performance['Total_Sales'], 
        labels=regional_performance.index, 
        autopct='%1.1f%%', 
        startangle=90,
        colors=['#ff9999','#66b3ff','#99ff99','#ffcc99'])
plt.title('Sales Distribution by Region', fontsize=16, fontweight='bold')
plt.axis('equal')
plt.show()

# Cell 8: Monthly Sales Trend Analysis
if 'Month' in df.columns:
    print("MONTHLY SALES TREND ANALYSIS")
    print("=" * 50)
    
    # Group by month
    monthly_sales = df.groupby('Month')['Sales'].agg(['sum', 'count', 'mean']).round(2)
    monthly_sales.columns = ['Total_Sales', 'Transaction_Count', 'Average_Sale']
    
    print("Monthly Sales Summary:")
    print(monthly_sales)
    
    # Visualization: Monthly Trend
    plt.figure(figsize=(14, 6))
    monthly_sales['Total_Sales'].plot(kind='line', marker='o', linewidth=3, markersize=8, color='green')
    plt.title('Monthly Sales Trend', fontsize=16, fontweight='bold')
    plt.xlabel('Month', fontsize=12)
    plt.ylabel('Sales Amount ($)', fontsize=12)
    plt.grid(True, alpha=0.3)
    plt.xticks(rotation=45)
    plt.tight_layout()
    plt.show()

# Cell 9: Product Performance Analysis
print("PRODUCT PERFORMANCE ANALYSIS")
print("=" * 50)

# Top 10 products by sales
top_products = df.groupby('Product')['Sales'].sum().sort_values(ascending=False).head(10)
print("Top 10 Products by Total Sales:")
print(top_products)

# Visualization: Top Products
plt.figure(figsize=(12, 8))
top_products.plot(kind='barh', color='coral', alpha=0.8)
plt.title('Top 10 Products by Sales Revenue', fontsize=16, fontweight='bold')
plt.xlabel('Sales Amount ($)', fontsize=12)
plt.ylabel('Product', fontsize=12)
plt.grid(axis='x', alpha=0.3)
plt.tight_layout()
plt.show()

# Cell 10: Advanced Analytics and Insights
print("ADVANCED ANALYTICS & KEY INSIGHTS")
print("=" * 50)

# Calculate key metrics
total_revenue = df['Sales'].sum()
total_transactions = len(df)
average_sale = df['Sales'].mean()
median_sale = df['Sales'].median()
max_sale = df['Sales'].max()
min_sale = df['Sales'].min()

# Find best performers
best_category = sales_by_category.index[0]
best_region = regional_performance.index[0]
if 'Month' in df.columns:
    best_month = monthly_sales['Total_Sales'].idxmax()

print("BUSINESS METRICS SUMMARY")
print("-" * 30)
print(f"Total Revenue: ${total_revenue:,.2f}")
print(f" Total Transactions: {total_transactions:,}")
print(f"Average Sale: ${average_sale:.2f}")
print(f"Median Sale: ${median_sale:.2f}")
print(f"highest Sale: ${max_sale:.2f}")
print(f"Lowest Sale: ${min_sale:.2f}")

print("\n TOP PERFORMERS")
print("-" * 30)
print(f" Best Category: {best_category}")
print(f" Best Region: {best_region}")
if 'Month' in df.columns:
    print(f" Best Month: {best_month}")

# Cell 11: Comprehensive Dashboard Visualization
print("CREATING COMPREHENSIVE DASHBOARD")
print("=" * 50)

# Create a 2x2 subplot dashboard
fig, ((ax1, ax2), (ax3, ax4)) = plt.subplots(2, 2, figsize=(16, 12))

# Chart 1: Top 5 Categories
sales_by_category['Total_Sales'].head(5).plot(kind='bar', ax=ax1, color='lightblue')
ax1.set_title('Top 5 Categories by Sales', fontweight='bold')
ax1.set_xlabel('Category')
ax1.set_ylabel('Sales ($)')
ax1.tick_params(axis='x', rotation=45)
ax1.grid(axis='y', alpha=0.3)

# Chart 2: Regional Distribution
regional_performance['Total_Sales'].plot(kind='pie', ax=ax2, autopct='%1.1f%%', startangle=90)
ax2.set_title('Sales Distribution by Region', fontweight='bold')
ax2.set_ylabel('')

# Chart 3: Monthly Trend (if available)
if 'Month' in df.columns:
    monthly_sales['Total_Sales'].plot(ax=ax3, marker='o', color='green', linewidth=2)
    ax3.set_title('Monthly Sales Trend', fontweight='bold')
    ax3.set_xlabel('Month')
    ax3.set_ylabel('Sales ($)')
    ax3.grid(True, alpha=0.3)
else:
    # Alternative: Sales distribution histogram
    df['Sales'].hist(bins=15, ax=ax3, color='orange', alpha=0.7, edgecolor='black')
    ax3.set_title('Sales Distribution', fontweight='bold')
    ax3.set_xlabel('Sale Amount ($)')
    ax3.set_ylabel('Frequency')

# Chart 4: Top 5 Products
top_products.head(5).plot(kind='barh', ax=ax4, color='coral')
ax4.set_title('Top 5 Products by Sales', fontweight='bold')
ax4.set_xlabel('Sales ($)')
ax4.set_ylabel('Product')
ax4.grid(axis='x', alpha=0.3)

plt.suptitle('Sales Data Analysis Dashboard', fontsize=18, fontweight='bold', y=0.98)
plt.tight_layout()
plt.show()

# Cell 12: Business Recommendations and Conclusions
print("BUSINESS RECOMMENDATIONS & CONCLUSIONS")
print("=" * 50)

print(" KEY FINDINGS:")
print(f"1. Revenue Performance: Generated ${total_revenue:,.2f} from {total_transactions} transactions")
print(f"2. Category Leader: {best_category} dominates with ${sales_by_category.loc[best_category, 'Total_Sales']:,.2f}")
print(f"3. Regional Winner: {best_region} region leads in sales performance")
print(f"4. Transaction Value: Average sale of ${average_sale:.2f} indicates healthy pricing")

print("\nSTRATEGIC RECOMMENDATIONS:")
print("1.  Focus Investment: Increase inventory for top-performing categories")
print("2. Market Expansion: Develop growth strategies for underperforming regions")
print("3. Product Optimization: Promote high-value products to increase average sale")
print("4. Data-Driven Decisions: Continue monitoring trends for strategic planning")

print("\nANALYSIS COMPLETE!")
print("All insights have been generated and visualizations created.")

# Display final summary table
print("\nFINAL SUMMARY TABLE:")
summary_data = {
    'Metric': ['Total Revenue', 'Total Transactions', 'Average Sale', 'Best Category', 'Best Region'],
    'Value': [f"${total_revenue:,.2f}", f"{total_transactions:,}", f"${average_sale:.2f}", 
              best_category, best_region]
}
summary_df = pd.DataFrame(summary_data)
print(summary_df.to_string(index=False))
